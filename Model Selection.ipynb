{
 "cells": [
  {
   "cell_type": "code",
   "execution_count": 1,
   "id": "5675ca76",
   "metadata": {},
   "outputs": [],
   "source": [
    "import numpy as np\n",
    "import pandas as pd\n",
    "import matplotlib.pyplot as plt\n",
    "import math\n",
    "import seaborn as sns\n",
    "\n",
    "from layer import L_layer_model_Classifier, L_layer_model_Regression\n",
    "from sklearn.metrics import mean_squared_log_error"
   ]
  },
  {
   "cell_type": "markdown",
   "id": "0b88aea9",
   "metadata": {},
   "source": [
    "### load data and Preprocessing"
   ]
  },
  {
   "cell_type": "code",
   "execution_count": 2,
   "id": "87c1c047",
   "metadata": {},
   "outputs": [],
   "source": [
    "dataset = np.load(\"data/nyc_taxi_data.npy\", allow_pickle=True).item()\n",
    "X_train, y_train, X_test, y_test = dataset[\"X_train\"], dataset[\"y_train\"], dataset[\"X_test\"], dataset[\"y_test\"]"
   ]
  },
  {
   "cell_type": "code",
   "execution_count": 3,
   "id": "92841dca",
   "metadata": {},
   "outputs": [],
   "source": [
    "\n",
    "def get_distance(lat1, lon1, lat2, lon2):\n",
    "    # Calculate distance by latitude and longitude\n",
    "\n",
    "    lat1, lon1, lat2, lon2 = map(math.radians, [lat1, lon1, lat2, lon2])\n",
    "    dlat = lat1 - lat1\n",
    "    dlon = lon1 - lon2\n",
    "\n",
    "    # Haversine\n",
    "    a = math.sin(dlat / 2) ** 2 + math.cos(lat1) * math.cos(lat2) * math.sin(dlon / 2) ** 2\n",
    "    c = 2 * math.atan2(math.sqrt(a), math.sqrt(1 - a))\n",
    "    R = 6371  # Radius of the Earth in kilometers\n",
    "    distance = R * c\n",
    "\n",
    "    return distance\n",
    "\n",
    "def dataset_Preprocessing(X,y):\n",
    "    transform_data = pd.DataFrame(X)\n",
    "    transform_data['pickup_datetime'] = pd.to_datetime(transform_data['pickup_datetime'])\n",
    "\n",
    "    transform_data['pickup_weekday'] = transform_data['pickup_datetime'].dt.dayofweek\n",
    "    transform_data['pickup_month'] = transform_data['pickup_datetime'].dt.month\n",
    "    transform_data['pickup_hour'] = transform_data['pickup_datetime'].dt.hour\n",
    "#     transform_data['pickup_time'] = transform_data['pickup_datetime'].dt.minute\n",
    "    \n",
    "#     transform_data['dropoff_datetime'] = pd.to_datetime(transform_data['dropoff_datetime'])\n",
    "#     transform_data['dropoff_weekday'] = transform_data['dropoff_datetime'].dt.dayofweek\n",
    "#     transform_data['dropoff_month'] = transform_data['dropoff_datetime'].dt.month\n",
    "#     transform_data['dropoff_hour'] = transform_data['dropoff_datetime'].dt.hour\n",
    "#     transform_data['dropoff_time'] = transform_data['dropoff_datetime'].dt.minute\n",
    "\n",
    "    # transform_data['store_and_fwd_flag'] = transform_data.store_and_fwd_flag.map({'N': 0, 'Y': 1})\n",
    "    mean_longitude = np.mean(transform_data['pickup_longitude'])\n",
    "    mean_latitude = np.mean(transform_data['pickup_latitude'])\n",
    "    transform_data.loc[:, 'long'] = transform_data['pickup_longitude'] - mean_longitude\n",
    "    transform_data.loc[:, 'lat'] = transform_data['pickup_latitude'] - mean_latitude\n",
    "\n",
    "    transform_data['distance'] = transform_data.apply(\n",
    "        lambda row: get_distance(row['pickup_latitude'], row['pickup_longitude'],\n",
    "                                 row['dropoff_latitude'], row['dropoff_longitude']), axis=1)\n",
    "    transform_data.drop([\"id\",\"vendor_id\",\"pickup_longitude\", \"pickup_latitude\",\"dropoff_longitude\", \"dropoff_latitude\", 'pickup_datetime', 'dropoff_datetime','passenger_count','store_and_fwd_flag'],\n",
    "                        axis=1,inplace=True)\n",
    "\n",
    "#     transform_target = np.array(y).reshape(-1, 1)\n",
    "    transform_target = pd.DataFrame(y)\n",
    "\n",
    "    return transform_data,transform_target\n",
    "\n",
    "def show_score(model, picname, times=10):\n",
    "    '''\n",
    "    show train_score and val_score plot with times parameter\n",
    "    '''\n",
    "    #get train_score and val_score with times parameter\n",
    "    train_scores = model.train_losses[::times]\n",
    "    val_scores = model.val_losses[::times]\n",
    "\n",
    "    #draw plot\n",
    "    plt.plot(train_scores, label='Train Cost')\n",
    "    plt.plot(val_scores, label='Validation Cost')\n",
    "    plt.ylabel('cost')\n",
    "    plt.xlabel('epoch ( per ' + str(times) + ' )')\n",
    "    plt.title(picname)\n",
    "    plt.legend()\n",
    "    plt.show()\n"
   ]
  },
  {
   "cell_type": "code",
   "execution_count": 4,
   "id": "d13d1055",
   "metadata": {},
   "outputs": [],
   "source": [
    "X_train_act,y_train_act = dataset_Preprocessing(X_train,y_train)\n",
    "X_test_act,y_test_act= dataset_Preprocessing(X_test,y_test)"
   ]
  },
  {
   "cell_type": "markdown",
   "id": "1709c3cf",
   "metadata": {},
   "source": [
    "#### Removing anomalous data from the training dataset"
   ]
  },
  {
   "cell_type": "code",
   "execution_count": 5,
   "id": "ea4497c4",
   "metadata": {},
   "outputs": [
    {
     "data": {
      "text/html": [
       "<div>\n",
       "<style scoped>\n",
       "    .dataframe tbody tr th:only-of-type {\n",
       "        vertical-align: middle;\n",
       "    }\n",
       "\n",
       "    .dataframe tbody tr th {\n",
       "        vertical-align: top;\n",
       "    }\n",
       "\n",
       "    .dataframe thead th {\n",
       "        text-align: right;\n",
       "    }\n",
       "</style>\n",
       "<table border=\"1\" class=\"dataframe\">\n",
       "  <thead>\n",
       "    <tr style=\"text-align: right;\">\n",
       "      <th></th>\n",
       "      <th>pickup_weekday</th>\n",
       "      <th>pickup_month</th>\n",
       "      <th>pickup_hour</th>\n",
       "      <th>long</th>\n",
       "      <th>lat</th>\n",
       "      <th>distance</th>\n",
       "    </tr>\n",
       "  </thead>\n",
       "  <tbody>\n",
       "    <tr>\n",
       "      <th>879655</th>\n",
       "      <td>4</td>\n",
       "      <td>1</td>\n",
       "      <td>23</td>\n",
       "      <td>0.017948</td>\n",
       "      <td>0.022419</td>\n",
       "      <td>1.523373</td>\n",
       "    </tr>\n",
       "    <tr>\n",
       "      <th>646838</th>\n",
       "      <td>5</td>\n",
       "      <td>3</td>\n",
       "      <td>9</td>\n",
       "      <td>0.011318</td>\n",
       "      <td>0.012673</td>\n",
       "      <td>1.532464</td>\n",
       "    </tr>\n",
       "    <tr>\n",
       "      <th>1138713</th>\n",
       "      <td>5</td>\n",
       "      <td>4</td>\n",
       "      <td>16</td>\n",
       "      <td>-0.003986</td>\n",
       "      <td>0.000916</td>\n",
       "      <td>2.881768</td>\n",
       "    </tr>\n",
       "    <tr>\n",
       "      <th>864716</th>\n",
       "      <td>2</td>\n",
       "      <td>1</td>\n",
       "      <td>11</td>\n",
       "      <td>0.003498</td>\n",
       "      <td>0.011437</td>\n",
       "      <td>0.567329</td>\n",
       "    </tr>\n",
       "    <tr>\n",
       "      <th>434927</th>\n",
       "      <td>6</td>\n",
       "      <td>6</td>\n",
       "      <td>9</td>\n",
       "      <td>0.023152</td>\n",
       "      <td>0.020634</td>\n",
       "      <td>1.501560</td>\n",
       "    </tr>\n",
       "    <tr>\n",
       "      <th>...</th>\n",
       "      <td>...</td>\n",
       "      <td>...</td>\n",
       "      <td>...</td>\n",
       "      <td>...</td>\n",
       "      <td>...</td>\n",
       "      <td>...</td>\n",
       "    </tr>\n",
       "    <tr>\n",
       "      <th>259178</th>\n",
       "      <td>4</td>\n",
       "      <td>3</td>\n",
       "      <td>7</td>\n",
       "      <td>0.018467</td>\n",
       "      <td>0.026402</td>\n",
       "      <td>4.309589</td>\n",
       "    </tr>\n",
       "    <tr>\n",
       "      <th>1414414</th>\n",
       "      <td>1</td>\n",
       "      <td>2</td>\n",
       "      <td>18</td>\n",
       "      <td>-0.000118</td>\n",
       "      <td>0.012993</td>\n",
       "      <td>0.861745</td>\n",
       "    </tr>\n",
       "    <tr>\n",
       "      <th>131932</th>\n",
       "      <td>1</td>\n",
       "      <td>1</td>\n",
       "      <td>19</td>\n",
       "      <td>-0.032696</td>\n",
       "      <td>-0.016643</td>\n",
       "      <td>4.766057</td>\n",
       "    </tr>\n",
       "    <tr>\n",
       "      <th>671155</th>\n",
       "      <td>1</td>\n",
       "      <td>1</td>\n",
       "      <td>11</td>\n",
       "      <td>0.011158</td>\n",
       "      <td>0.016396</td>\n",
       "      <td>0.624516</td>\n",
       "    </tr>\n",
       "    <tr>\n",
       "      <th>121958</th>\n",
       "      <td>2</td>\n",
       "      <td>2</td>\n",
       "      <td>22</td>\n",
       "      <td>0.098850</td>\n",
       "      <td>0.023144</td>\n",
       "      <td>10.914843</td>\n",
       "    </tr>\n",
       "  </tbody>\n",
       "</table>\n",
       "<p>1309815 rows × 6 columns</p>\n",
       "</div>"
      ],
      "text/plain": [
       "         pickup_weekday  pickup_month  pickup_hour      long       lat  \\\n",
       "879655                4             1           23  0.017948  0.022419   \n",
       "646838                5             3            9  0.011318  0.012673   \n",
       "1138713               5             4           16 -0.003986  0.000916   \n",
       "864716                2             1           11  0.003498  0.011437   \n",
       "434927                6             6            9  0.023152  0.020634   \n",
       "...                 ...           ...          ...       ...       ...   \n",
       "259178                4             3            7  0.018467  0.026402   \n",
       "1414414               1             2           18 -0.000118  0.012993   \n",
       "131932                1             1           19 -0.032696 -0.016643   \n",
       "671155                1             1           11  0.011158  0.016396   \n",
       "121958                2             2           22  0.098850  0.023144   \n",
       "\n",
       "          distance  \n",
       "879655    1.523373  \n",
       "646838    1.532464  \n",
       "1138713   2.881768  \n",
       "864716    0.567329  \n",
       "434927    1.501560  \n",
       "...            ...  \n",
       "259178    4.309589  \n",
       "1414414   0.861745  \n",
       "131932    4.766057  \n",
       "671155    0.624516  \n",
       "121958   10.914843  \n",
       "\n",
       "[1309815 rows x 6 columns]"
      ]
     },
     "execution_count": 5,
     "metadata": {},
     "output_type": "execute_result"
    }
   ],
   "source": [
    "X_train_act =X_train_act.loc[(y_train_act[\"trip_duration\"]<7000) & (X_train_act[\"distance\"]<20)]\n",
    "y_train_act=y_train_act.loc[(y_train_act[\"trip_duration\"]<7000) & (X_train_act[\"distance\"]<20)]\n",
    "X_train_act "
   ]
  },
  {
   "cell_type": "markdown",
   "id": "14ebd249",
   "metadata": {},
   "source": [
    "### standardization"
   ]
  },
  {
   "cell_type": "code",
   "execution_count": 6,
   "id": "35e1a1d7",
   "metadata": {},
   "outputs": [],
   "source": [
    "from sklearn.preprocessing import StandardScaler,MinMaxScaler\n",
    "scaler = StandardScaler()\n",
    "scaler1 = StandardScaler()\n",
    "X_train_sd = scaler.fit_transform(X_train_act)\n",
    "X_test_sd =scaler.transform(X_test_act)\n",
    "y_train_sd = scaler1.fit_transform(y_train_act)\n",
    "y_test_sd =scaler1.transform(y_test_act)"
   ]
  },
  {
   "cell_type": "markdown",
   "id": "60fc162a",
   "metadata": {},
   "source": [
    "### model1  with one hidden layer and 7 notes with learning_rate=1 training"
   ]
  },
  {
   "cell_type": "code",
   "execution_count": 7,
   "id": "1193e8f0",
   "metadata": {},
   "outputs": [
    {
     "name": "stdout",
     "output_type": "stream",
     "text": [
      " after epoch 0: Train cost: 1.507461, Validation cost: 2.746636\n",
      " after epoch 82: Train cost: 0.231080, Validation cost: 0.230321\n"
     ]
    }
   ],
   "source": [
    "model1 = L_layer_model_Regression(layer_dims=[6,7,1],active_function='relu',learning_rate=1,random_state=12)\n",
    "model1.fit(X_train_sd,y_train_sd,print_cost=True)\n"
   ]
  },
  {
   "cell_type": "code",
   "execution_count": 8,
   "id": "bf7b9ab7",
   "metadata": {},
   "outputs": [
    {
     "name": "stdout",
     "output_type": "stream",
     "text": [
      "RMSLE of test set = 0.38653184317227984\n"
     ]
    }
   ],
   "source": [
    "y_test_act_1 = np.array(y_test_act)\n",
    "test_pred_sd =model1.predict(X_test_sd)\n",
    "test_pred_normal = scaler1.inverse_transform(test_pred_sd)\n",
    "test_score1 = mean_squared_log_error( y_test_act_1,abs(test_pred_normal))\n",
    "print(f'RMSLE of test set = {test_score1}')"
   ]
  },
  {
   "cell_type": "markdown",
   "id": "58d7e458",
   "metadata": {},
   "source": [
    " it trains 90 epochs, and the score on the test set is 0.386"
   ]
  },
  {
   "cell_type": "code",
   "execution_count": 9,
   "id": "9c31b857",
   "metadata": {},
   "outputs": [
    {
     "data": {
      "text/html": [
       "<div>\n",
       "<style scoped>\n",
       "    .dataframe tbody tr th:only-of-type {\n",
       "        vertical-align: middle;\n",
       "    }\n",
       "\n",
       "    .dataframe tbody tr th {\n",
       "        vertical-align: top;\n",
       "    }\n",
       "\n",
       "    .dataframe thead th {\n",
       "        text-align: right;\n",
       "    }\n",
       "</style>\n",
       "<table border=\"1\" class=\"dataframe\">\n",
       "  <thead>\n",
       "    <tr style=\"text-align: right;\">\n",
       "      <th></th>\n",
       "      <th>trip_duration</th>\n",
       "      <th>trip_duration_actural</th>\n",
       "    </tr>\n",
       "  </thead>\n",
       "  <tbody>\n",
       "    <tr>\n",
       "      <th>67250</th>\n",
       "      <td>530.264322</td>\n",
       "      <td>1040</td>\n",
       "    </tr>\n",
       "    <tr>\n",
       "      <th>1397036</th>\n",
       "      <td>578.809349</td>\n",
       "      <td>827</td>\n",
       "    </tr>\n",
       "    <tr>\n",
       "      <th>1021087</th>\n",
       "      <td>624.424853</td>\n",
       "      <td>614</td>\n",
       "    </tr>\n",
       "    <tr>\n",
       "      <th>951424</th>\n",
       "      <td>542.542221</td>\n",
       "      <td>867</td>\n",
       "    </tr>\n",
       "    <tr>\n",
       "      <th>707882</th>\n",
       "      <td>2789.824376</td>\n",
       "      <td>4967</td>\n",
       "    </tr>\n",
       "    <tr>\n",
       "      <th>...</th>\n",
       "      <td>...</td>\n",
       "      <td>...</td>\n",
       "    </tr>\n",
       "    <tr>\n",
       "      <th>526279</th>\n",
       "      <td>448.681651</td>\n",
       "      <td>395</td>\n",
       "    </tr>\n",
       "    <tr>\n",
       "      <th>80354</th>\n",
       "      <td>451.235755</td>\n",
       "      <td>779</td>\n",
       "    </tr>\n",
       "    <tr>\n",
       "      <th>328645</th>\n",
       "      <td>2727.199994</td>\n",
       "      <td>2344</td>\n",
       "    </tr>\n",
       "    <tr>\n",
       "      <th>657429</th>\n",
       "      <td>445.971469</td>\n",
       "      <td>393</td>\n",
       "    </tr>\n",
       "    <tr>\n",
       "      <th>128732</th>\n",
       "      <td>510.435915</td>\n",
       "      <td>764</td>\n",
       "    </tr>\n",
       "  </tbody>\n",
       "</table>\n",
       "<p>145865 rows × 2 columns</p>\n",
       "</div>"
      ],
      "text/plain": [
       "         trip_duration  trip_duration_actural\n",
       "67250       530.264322                   1040\n",
       "1397036     578.809349                    827\n",
       "1021087     624.424853                    614\n",
       "951424      542.542221                    867\n",
       "707882     2789.824376                   4967\n",
       "...                ...                    ...\n",
       "526279      448.681651                    395\n",
       "80354       451.235755                    779\n",
       "328645     2727.199994                   2344\n",
       "657429      445.971469                    393\n",
       "128732      510.435915                    764\n",
       "\n",
       "[145865 rows x 2 columns]"
      ]
     },
     "execution_count": 9,
     "metadata": {},
     "output_type": "execute_result"
    }
   ],
   "source": [
    "test_pred_df1 = pd.DataFrame(test_pred_normal, columns=['trip_duration'])\n",
    "test_pred_df1.index = y_test_act.index\n",
    "test_pred_df1[\"trip_duration_actural\"] = y_test_act[\"trip_duration\"]\n",
    "test_pred_df1"
   ]
  },
  {
   "cell_type": "code",
   "execution_count": 10,
   "id": "4be8cf4f",
   "metadata": {},
   "outputs": [
    {
     "data": {
      "image/png": "[encoded data removed]",
      "text/plain": [
       "<Figure size 640x480 with 1 Axes>"
      ]
     },
     "metadata": {},
     "output_type": "display_data"
    }
   ],
   "source": [
    "show_score(model1,'model1 training cost',times=1)"
   ]
  },
  {
   "cell_type": "code",
   "execution_count": 11,
   "id": "e801607c",
   "metadata": {},
   "outputs": [
    {
     "name": "stdout",
     "output_type": "stream",
     "text": [
      "[[ 0.2908971   0.24228322 -1.28781698 -0.44860165  0.07956225 -0.41860723\n",
      "  -1.0409437 ]\n",
      " [-0.22906225 -0.04495781  0.23194231 -0.59169054  0.33117533 -0.45375304\n",
      "  -0.00490904]\n",
      " [ 0.1652581  -0.05542272  0.28951932  0.00726239  0.04258078  0.10437933\n",
      "  -0.43656421]\n",
      " [ 0.17584925  0.06521204 -0.13425249 -0.52117206 -0.18088972  0.74328284\n",
      "   0.01304539]\n",
      " [ 0.03994388  0.12180395  0.11260124 -0.02046112  0.00826532  0.17671341\n",
      "   0.07444389]\n",
      " [-0.04235614  0.0046471   0.07567646  0.03946212  0.11727709  0.01329298\n",
      "  -0.03040826]\n",
      " [ 1.03073796 -1.03217152 -0.62880265 -0.14075685 -0.7989129  -0.03912232\n",
      "  -0.13237372]]\n",
      "[[ 0.35424224]\n",
      " [ 0.49477042]\n",
      " [-0.65756358]\n",
      " [ 1.28298268]\n",
      " [-0.34470636]\n",
      " [-0.49269786]\n",
      " [-0.5080863 ]\n",
      " [ 0.54329744]]\n"
     ]
    }
   ],
   "source": [
    "print(model1.model.layers[0].weights)\n",
    "print(model1.model.layers[2].weights)"
   ]
  },
  {
   "cell_type": "markdown",
   "id": "85a0bb40",
   "metadata": {},
   "source": [
    "### model2  with one hidden layer and 7 notes  with learning_rate=0.7 and active_function='sigmoid' training"
   ]
  },
  {
   "cell_type": "code",
   "execution_count": 12,
   "id": "852c77d0",
   "metadata": {},
   "outputs": [
    {
     "name": "stdout",
     "output_type": "stream",
     "text": [
      " after epoch 0: Train cost: 0.544701, Validation cost: 0.492192\n",
      " after epoch 17: Train cost: 0.294076, Validation cost: 0.299864\n",
      "RMSLE of test set = 0.43882054053562497\n"
     ]
    },
    {
     "data": {
      "image/png": "[encoded data removed]",
      "text/plain": [
       "<Figure size 640x480 with 1 Axes>"
      ]
     },
     "metadata": {},
     "output_type": "display_data"
    },
    {
     "data": {
      "text/html": [
       "<div>\n",
       "<style scoped>\n",
       "    .dataframe tbody tr th:only-of-type {\n",
       "        vertical-align: middle;\n",
       "    }\n",
       "\n",
       "    .dataframe tbody tr th {\n",
       "        vertical-align: top;\n",
       "    }\n",
       "\n",
       "    .dataframe thead th {\n",
       "        text-align: right;\n",
       "    }\n",
       "</style>\n",
       "<table border=\"1\" class=\"dataframe\">\n",
       "  <thead>\n",
       "    <tr style=\"text-align: right;\">\n",
       "      <th></th>\n",
       "      <th>trip_duration</th>\n",
       "      <th>trip_duration_actural</th>\n",
       "    </tr>\n",
       "  </thead>\n",
       "  <tbody>\n",
       "    <tr>\n",
       "      <th>67250</th>\n",
       "      <td>534.554157</td>\n",
       "      <td>1040</td>\n",
       "    </tr>\n",
       "    <tr>\n",
       "      <th>1397036</th>\n",
       "      <td>481.456499</td>\n",
       "      <td>827</td>\n",
       "    </tr>\n",
       "    <tr>\n",
       "      <th>1021087</th>\n",
       "      <td>555.689631</td>\n",
       "      <td>614</td>\n",
       "    </tr>\n",
       "    <tr>\n",
       "      <th>951424</th>\n",
       "      <td>543.409029</td>\n",
       "      <td>867</td>\n",
       "    </tr>\n",
       "    <tr>\n",
       "      <th>707882</th>\n",
       "      <td>2125.906642</td>\n",
       "      <td>4967</td>\n",
       "    </tr>\n",
       "    <tr>\n",
       "      <th>...</th>\n",
       "      <td>...</td>\n",
       "      <td>...</td>\n",
       "    </tr>\n",
       "    <tr>\n",
       "      <th>526279</th>\n",
       "      <td>553.473430</td>\n",
       "      <td>395</td>\n",
       "    </tr>\n",
       "    <tr>\n",
       "      <th>80354</th>\n",
       "      <td>367.997583</td>\n",
       "      <td>779</td>\n",
       "    </tr>\n",
       "    <tr>\n",
       "      <th>328645</th>\n",
       "      <td>2172.113669</td>\n",
       "      <td>2344</td>\n",
       "    </tr>\n",
       "    <tr>\n",
       "      <th>657429</th>\n",
       "      <td>509.729053</td>\n",
       "      <td>393</td>\n",
       "    </tr>\n",
       "    <tr>\n",
       "      <th>128732</th>\n",
       "      <td>404.683738</td>\n",
       "      <td>764</td>\n",
       "    </tr>\n",
       "  </tbody>\n",
       "</table>\n",
       "<p>145865 rows × 2 columns</p>\n",
       "</div>"
      ],
      "text/plain": [
       "         trip_duration  trip_duration_actural\n",
       "67250       534.554157                   1040\n",
       "1397036     481.456499                    827\n",
       "1021087     555.689631                    614\n",
       "951424      543.409029                    867\n",
       "707882     2125.906642                   4967\n",
       "...                ...                    ...\n",
       "526279      553.473430                    395\n",
       "80354       367.997583                    779\n",
       "328645     2172.113669                   2344\n",
       "657429      509.729053                    393\n",
       "128732      404.683738                    764\n",
       "\n",
       "[145865 rows x 2 columns]"
      ]
     },
     "execution_count": 12,
     "metadata": {},
     "output_type": "execute_result"
    }
   ],
   "source": [
    "model2 = L_layer_model_Regression(layer_dims=[6,7,1],active_function='sigmoid',learning_rate=0.7,random_state=12)\n",
    "model2.fit(X_train_sd,y_train_sd,print_cost=True)\n",
    "test_pred_sd2 = model2.predict(X_test_sd)\n",
    "test_pred_normal2 = scaler1.inverse_transform(test_pred_sd2)\n",
    "test_score2 = mean_squared_log_error( y_test_act_1,abs(test_pred_normal2))\n",
    "print(f'RMSLE of test set = {test_score2}')\n",
    "\n",
    "show_score(model2,'model2 training cost',times=1)\n",
    "\n",
    "test_pred_df2 = pd.DataFrame(test_pred_normal2, columns=['trip_duration'])\n",
    "test_pred_df2.index = y_test_act.index\n",
    "test_pred_df2[\"trip_duration_actural\"] = y_test_act[\"trip_duration\"]\n",
    "\n",
    "test_pred_df2"
   ]
  },
  {
   "cell_type": "markdown",
   "id": "ee2c1344",
   "metadata": {},
   "source": [
    "**it trains 16 epochs, and the score on the test set is  0.4388**"
   ]
  },
  {
   "cell_type": "code",
   "execution_count": 13,
   "id": "76a1a1b6",
   "metadata": {},
   "outputs": [
    {
     "name": "stdout",
     "output_type": "stream",
     "text": [
      "{'layers': [<layer.Linear object at 0x00000226BEE35E90>, <layer.Sigmoid object at 0x00000226B30DEDD0>, <layer.Linear object at 0x00000226BEDF3810>]}\n",
      "[[ 0.34603686]\n",
      " [ 1.02354446]\n",
      " [ 0.026647  ]\n",
      " [-0.54517487]\n",
      " [-0.29128957]\n",
      " [-0.2409125 ]\n",
      " [ 1.0311924 ]\n",
      " [-1.95206955]]\n"
     ]
    }
   ],
   "source": [
    "print(model2.model.__dict__)\n",
    "print(model2.model.layers[2].weights)\n"
   ]
  },
  {
   "cell_type": "markdown",
   "id": "f8ae3670",
   "metadata": {},
   "source": [
    "### model3  with two hidden layer and 7 notes and 2 notes  with learning_rate=0.7 training"
   ]
  },
  {
   "cell_type": "code",
   "execution_count": 14,
   "id": "b4b16425",
   "metadata": {},
   "outputs": [
    {
     "name": "stdout",
     "output_type": "stream",
     "text": [
      " after epoch 0: Train cost: 2.864627, Validation cost: 1.143385\n",
      " after epoch 81: Train cost: 0.251708, Validation cost: 0.254423\n",
      "RMSLE of test set = 0.44274291019416995\n"
     ]
    },
    {
     "data": {
      "image/png": "[encoded data removed]",
      "text/plain": [
       "<Figure size 640x480 with 1 Axes>"
      ]
     },
     "metadata": {},
     "output_type": "display_data"
    },
    {
     "data": {
      "text/html": [
       "<div>\n",
       "<style scoped>\n",
       "    .dataframe tbody tr th:only-of-type {\n",
       "        vertical-align: middle;\n",
       "    }\n",
       "\n",
       "    .dataframe tbody tr th {\n",
       "        vertical-align: top;\n",
       "    }\n",
       "\n",
       "    .dataframe thead th {\n",
       "        text-align: right;\n",
       "    }\n",
       "</style>\n",
       "<table border=\"1\" class=\"dataframe\">\n",
       "  <thead>\n",
       "    <tr style=\"text-align: right;\">\n",
       "      <th></th>\n",
       "      <th>trip_duration</th>\n",
       "      <th>trip_duration_actural</th>\n",
       "    </tr>\n",
       "  </thead>\n",
       "  <tbody>\n",
       "    <tr>\n",
       "      <th>67250</th>\n",
       "      <td>718.725779</td>\n",
       "      <td>1040</td>\n",
       "    </tr>\n",
       "    <tr>\n",
       "      <th>1397036</th>\n",
       "      <td>620.938270</td>\n",
       "      <td>827</td>\n",
       "    </tr>\n",
       "    <tr>\n",
       "      <th>1021087</th>\n",
       "      <td>577.795993</td>\n",
       "      <td>614</td>\n",
       "    </tr>\n",
       "    <tr>\n",
       "      <th>951424</th>\n",
       "      <td>583.351579</td>\n",
       "      <td>867</td>\n",
       "    </tr>\n",
       "    <tr>\n",
       "      <th>707882</th>\n",
       "      <td>2777.411620</td>\n",
       "      <td>4967</td>\n",
       "    </tr>\n",
       "    <tr>\n",
       "      <th>...</th>\n",
       "      <td>...</td>\n",
       "      <td>...</td>\n",
       "    </tr>\n",
       "    <tr>\n",
       "      <th>526279</th>\n",
       "      <td>556.052721</td>\n",
       "      <td>395</td>\n",
       "    </tr>\n",
       "    <tr>\n",
       "      <th>80354</th>\n",
       "      <td>543.683842</td>\n",
       "      <td>779</td>\n",
       "    </tr>\n",
       "    <tr>\n",
       "      <th>328645</th>\n",
       "      <td>2920.342589</td>\n",
       "      <td>2344</td>\n",
       "    </tr>\n",
       "    <tr>\n",
       "      <th>657429</th>\n",
       "      <td>543.683842</td>\n",
       "      <td>393</td>\n",
       "    </tr>\n",
       "    <tr>\n",
       "      <th>128732</th>\n",
       "      <td>580.865633</td>\n",
       "      <td>764</td>\n",
       "    </tr>\n",
       "  </tbody>\n",
       "</table>\n",
       "<p>145865 rows × 2 columns</p>\n",
       "</div>"
      ],
      "text/plain": [
       "         trip_duration  trip_duration_actural\n",
       "67250       718.725779                   1040\n",
       "1397036     620.938270                    827\n",
       "1021087     577.795993                    614\n",
       "951424      583.351579                    867\n",
       "707882     2777.411620                   4967\n",
       "...                ...                    ...\n",
       "526279      556.052721                    395\n",
       "80354       543.683842                    779\n",
       "328645     2920.342589                   2344\n",
       "657429      543.683842                    393\n",
       "128732      580.865633                    764\n",
       "\n",
       "[145865 rows x 2 columns]"
      ]
     },
     "execution_count": 14,
     "metadata": {},
     "output_type": "execute_result"
    }
   ],
   "source": [
    "model3 = L_layer_model_Regression(layer_dims=[6,7,2,1],active_function='relu',learning_rate=0.7,random_state=12)\n",
    "model3.fit(X_train_sd,y_train_sd,print_cost=True)\n",
    "test_pred_sd3 = model3.predict(X_test_sd)\n",
    "\n",
    "#Convert the test prediction data back to the original scale\n",
    "test_pred_normal3 = scaler1.inverse_transform(test_pred_sd3)\n",
    "test_score3 = mean_squared_log_error( y_test_act_1,abs(test_pred_normal3))\n",
    "print(f'RMSLE of test set = {test_score3}')\n",
    "\n",
    "show_score(model3,'model3 training cost',times=1)\n",
    "\n",
    "test_pred_df3 = pd.DataFrame(test_pred_normal3, columns=['trip_duration'])\n",
    "test_pred_df3.index = y_test_act.index\n",
    "test_pred_df3[\"trip_duration_actural\"] = y_test_act[\"trip_duration\"]\n",
    "\n",
    "test_pred_df3"
   ]
  },
  {
   "cell_type": "markdown",
   "id": "1ac438ec",
   "metadata": {},
   "source": [
    "**it trains 3 epochs, and the score on the test set is 0.4427**"
   ]
  }
 ],
 "metadata": {
  "kernelspec": {
   "display_name": "Python 3 (ipykernel)",
   "language": "python",
   "name": "python3"
  },
  "language_info": {
   "codemirror_mode": {
    "name": "ipython",
    "version": 3
   },
   "file_extension": ".py",
   "mimetype": "text/x-python",
   "name": "python",
   "nbconvert_exporter": "python",
   "pygments_lexer": "ipython3",
   "version": "3.11.5"
  }
 },
 "nbformat": 4,
 "nbformat_minor": 5
}
