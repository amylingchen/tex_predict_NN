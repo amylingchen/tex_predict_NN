{
 "cells": [
  {
   "cell_type": "markdown",
   "id": "bc18cb85",
   "metadata": {},
   "source": [
    "### XOR problem"
   ]
  },
  {
   "cell_type": "code",
   "execution_count": 1,
   "id": "18380bee",
   "metadata": {
    "ExecuteTime": {
     "end_time": "2024-07-06T23:45:50.926958Z",
     "start_time": "2024-07-06T23:45:50.177320Z"
    }
   },
   "outputs": [],
   "source": [
    "import numpy as np\n",
    "import matplotlib.pyplot as plt\n"
   ]
  },
  {
   "cell_type": "code",
   "execution_count": 2,
   "id": "19c25ce6",
   "metadata": {
    "ExecuteTime": {
     "end_time": "2024-07-07T00:01:38.046743Z",
     "start_time": "2024-07-07T00:01:37.952968Z"
    }
   },
   "outputs": [
    {
     "data": {
      "image/png": "[encoded data removed]",
      "text/plain": [
       "<Figure size 640x480 with 1 Axes>"
      ]
     },
     "metadata": {},
     "output_type": "display_data"
    }
   ],
   "source": [
    "X = np.array([[0, 0],\n",
    "                    [0, 1],\n",
    "                    [1, 0],\n",
    "                    [1, 1]])\n",
    "y = np.array([0, 1, 1, 0])\n",
    "y =y.reshape(-1,1)\n",
    "\n",
    "plt.scatter(X[:, 0], X[:, 1], c=y)\n",
    "plt.show()"
   ]
  },
  {
   "cell_type": "markdown",
   "id": "e9637342",
   "metadata": {},
   "source": [
    "Construct a neural network with 1 hidden layer of 2 nodes with active fuction ,find the best parameters : active function, learning rate and random seed"
   ]
  },
  {
   "cell_type": "code",
   "execution_count": 4,
   "id": "cb496e9e",
   "metadata": {
    "ExecuteTime": {
     "end_time": "2024-07-06T23:46:21.091936Z",
     "start_time": "2024-07-06T23:46:21.088490Z"
    }
   },
   "outputs": [],
   "source": [
    "from layer import L_layer_model_Classifier\n",
    "from utils import plot_decision_boundary\n",
    "from sklearn.model_selection import GridSearchCV\n",
    "import pandas as pd"
   ]
  },
  {
   "cell_type": "code",
   "execution_count": 5,
   "id": "1a1e1145",
   "metadata": {},
   "outputs": [
    {
     "name": "stdout",
     "output_type": "stream",
     "text": [
      "best_p =  {'active_function': 'relu', 'learning_rate': 10, 'seed': 29}\n",
      "best_score =  1.0\n",
      "best_cost =  0.0005717701853476039\n"
     ]
    },
    {
     "data": {
      "text/html": [
       "<div>\n",
       "<style scoped>\n",
       "    .dataframe tbody tr th:only-of-type {\n",
       "        vertical-align: middle;\n",
       "    }\n",
       "\n",
       "    .dataframe tbody tr th {\n",
       "        vertical-align: top;\n",
       "    }\n",
       "\n",
       "    .dataframe thead th {\n",
       "        text-align: right;\n",
       "    }\n",
       "</style>\n",
       "<table border=\"1\" class=\"dataframe\">\n",
       "  <thead>\n",
       "    <tr style=\"text-align: right;\">\n",
       "      <th></th>\n",
       "      <th>Active function</th>\n",
       "      <th>Learning rate</th>\n",
       "      <th>Seed</th>\n",
       "      <th>Score</th>\n",
       "      <th>Cost</th>\n",
       "    </tr>\n",
       "  </thead>\n",
       "  <tbody>\n",
       "    <tr>\n",
       "      <th>0</th>\n",
       "      <td>relu</td>\n",
       "      <td>0.01</td>\n",
       "      <td>1</td>\n",
       "      <td>0.50</td>\n",
       "      <td>0.632575</td>\n",
       "    </tr>\n",
       "    <tr>\n",
       "      <th>1</th>\n",
       "      <td>relu</td>\n",
       "      <td>0.01</td>\n",
       "      <td>2</td>\n",
       "      <td>0.50</td>\n",
       "      <td>0.705805</td>\n",
       "    </tr>\n",
       "    <tr>\n",
       "      <th>2</th>\n",
       "      <td>relu</td>\n",
       "      <td>0.01</td>\n",
       "      <td>3</td>\n",
       "      <td>0.50</td>\n",
       "      <td>0.700614</td>\n",
       "    </tr>\n",
       "    <tr>\n",
       "      <th>3</th>\n",
       "      <td>relu</td>\n",
       "      <td>0.01</td>\n",
       "      <td>4</td>\n",
       "      <td>0.75</td>\n",
       "      <td>0.609733</td>\n",
       "    </tr>\n",
       "    <tr>\n",
       "      <th>4</th>\n",
       "      <td>relu</td>\n",
       "      <td>0.01</td>\n",
       "      <td>5</td>\n",
       "      <td>0.50</td>\n",
       "      <td>0.693232</td>\n",
       "    </tr>\n",
       "    <tr>\n",
       "      <th>...</th>\n",
       "      <td>...</td>\n",
       "      <td>...</td>\n",
       "      <td>...</td>\n",
       "      <td>...</td>\n",
       "      <td>...</td>\n",
       "    </tr>\n",
       "    <tr>\n",
       "      <th>227</th>\n",
       "      <td>sigmoid</td>\n",
       "      <td>10.00</td>\n",
       "      <td>25</td>\n",
       "      <td>0.50</td>\n",
       "      <td>0.350120</td>\n",
       "    </tr>\n",
       "    <tr>\n",
       "      <th>228</th>\n",
       "      <td>sigmoid</td>\n",
       "      <td>10.00</td>\n",
       "      <td>26</td>\n",
       "      <td>1.00</td>\n",
       "      <td>0.004367</td>\n",
       "    </tr>\n",
       "    <tr>\n",
       "      <th>229</th>\n",
       "      <td>sigmoid</td>\n",
       "      <td>10.00</td>\n",
       "      <td>27</td>\n",
       "      <td>1.00</td>\n",
       "      <td>0.004603</td>\n",
       "    </tr>\n",
       "    <tr>\n",
       "      <th>230</th>\n",
       "      <td>sigmoid</td>\n",
       "      <td>10.00</td>\n",
       "      <td>28</td>\n",
       "      <td>1.00</td>\n",
       "      <td>0.004251</td>\n",
       "    </tr>\n",
       "    <tr>\n",
       "      <th>231</th>\n",
       "      <td>sigmoid</td>\n",
       "      <td>10.00</td>\n",
       "      <td>29</td>\n",
       "      <td>1.00</td>\n",
       "      <td>0.004276</td>\n",
       "    </tr>\n",
       "  </tbody>\n",
       "</table>\n",
       "<p>232 rows × 5 columns</p>\n",
       "</div>"
      ],
      "text/plain": [
       "    Active function  Learning rate  Seed  Score      Cost\n",
       "0              relu           0.01     1   0.50  0.632575\n",
       "1              relu           0.01     2   0.50  0.705805\n",
       "2              relu           0.01     3   0.50  0.700614\n",
       "3              relu           0.01     4   0.75  0.609733\n",
       "4              relu           0.01     5   0.50  0.693232\n",
       "..              ...            ...   ...    ...       ...\n",
       "227         sigmoid          10.00    25   0.50  0.350120\n",
       "228         sigmoid          10.00    26   1.00  0.004367\n",
       "229         sigmoid          10.00    27   1.00  0.004603\n",
       "230         sigmoid          10.00    28   1.00  0.004251\n",
       "231         sigmoid          10.00    29   1.00  0.004276\n",
       "\n",
       "[232 rows x 5 columns]"
      ]
     },
     "execution_count": 5,
     "metadata": {},
     "output_type": "execute_result"
    }
   ],
   "source": [
    "np.random.seed(666)\n",
    "Learning_rates = [0.01,0.1, 1.0,10]\n",
    "epoch = 1000\n",
    "active_function = ['relu','sigmoid']\n",
    "\n",
    "best_cost = float('inf')\n",
    "best_p ={}\n",
    "param = []\n",
    "dtype = np.dtype([\n",
    "    (('active_function', 'Active function'), 'U10'),\n",
    "    (('learning_rate', 'Learning rate'), 'f4'),\n",
    "    (('seed', 'Seed'), 'i4'),\n",
    "    (('score', 'Score'), 'f8'),\n",
    "    (('cost', 'Cost'), 'f8'),\n",
    "])\n",
    "for af in active_function:\n",
    "    layer_dims=[2,2,1]\n",
    "    for lr in Learning_rates:\n",
    "        for seed in range(1,30):\n",
    "            model = L_layer_model_Classifier(layer_dims=layer_dims,active_function=af,learning_rate=lr,random_state=seed)\n",
    "            cost=model.fit(X,y,epochs = epoch)\n",
    "            score = model.score(X,y)\n",
    "            p = {'active_function':af,'learning_rate':lr,'seed':seed,'score':score,'cost':cost}\n",
    "            param.append((af, lr,seed,score,cost))\n",
    "            if cost<best_cost:\n",
    "                best_cost = cost\n",
    "                best_score = score\n",
    "                best_p = {'active_function':af,'learning_rate':lr,'seed':seed}\n",
    "#                 if score==1:\n",
    "#                     break\n",
    "\n",
    "\n",
    "\n",
    "print(\"best_p = \",best_p)\n",
    "print(\"best_score = \",best_score)            \n",
    "print(\"best_cost = \",best_cost)\n",
    "\n",
    "param_array  = np.array(param,dtype=dtype)\n",
    "df = pd.DataFrame(param_array )\n",
    "df"
   ]
  },
  {
   "cell_type": "markdown",
   "id": "073efd59",
   "metadata": {},
   "source": [
    "we get the best parameter By the above method. \n",
    "\n",
    "**'active_function': 'relu', 'learning_rate': 10, 'random seed': 29**\n",
    "\n",
    "Now we construct the optimal parametric model and draw decision boundary "
   ]
  },
  {
   "cell_type": "code",
   "execution_count": 6,
   "id": "29a34603",
   "metadata": {
    "ExecuteTime": {
     "end_time": "2024-07-07T00:09:00.445358Z",
     "start_time": "2024-07-07T00:09:00.266730Z"
    }
   },
   "outputs": [
    {
     "name": "stdout",
     "output_type": "stream",
     "text": [
      "1.0\n"
     ]
    },
    {
     "data": {
      "image/png": "[encoded data removed]",
      "text/plain": [
       "<Figure size 640x480 with 1 Axes>"
      ]
     },
     "metadata": {},
     "output_type": "display_data"
    }
   ],
   "source": [
    "XOR_solved = L_layer_model_Classifier(layer_dims = [2,2,1],active_function= 'relu',learning_rate=10.0,random_state=29)\n",
    "\n",
    "XOR_solved.fit(X, y, epochs=1000)\n",
    "pred = model.predict(X)\n",
    "score = XOR_solved.score(X,y)\n",
    "print(score)\n",
    "plot_decision_boundary(XOR_solved,X,y)\n",
    "plt.show()"
   ]
  },
  {
   "cell_type": "code",
   "execution_count": 7,
   "id": "d96a33ec",
   "metadata": {},
   "outputs": [
    {
     "data": {
      "text/plain": [
       "array([[-3.98719196e-03, -1.47875726e-03],\n",
       "       [-3.49666014e+00,  3.55167242e+00],\n",
       "       [ 3.49242240e+00, -3.55287814e+00]])"
      ]
     },
     "execution_count": 7,
     "metadata": {},
     "output_type": "execute_result"
    }
   ],
   "source": [
    "XOR_solved.w=XOR_solved.model.layers[0].weights\n",
    "XOR_solved.w"
   ]
  },
  {
   "cell_type": "markdown",
   "id": "75770614",
   "metadata": {},
   "source": [
    "As shown in the figure above, we can solve the XOR problem by building a  1 hidden layer of 2 nodes neural network with 'active_function': 'relu', 'learning_rate': 10, 'random seed': 29"
   ]
  }
 ],
 "metadata": {
  "kernelspec": {
   "display_name": "Python 3 (ipykernel)",
   "language": "python",
   "name": "python3"
  },
  "language_info": {
   "codemirror_mode": {
    "name": "ipython",
    "version": 3
   },
   "file_extension": ".py",
   "mimetype": "text/x-python",
   "name": "python",
   "nbconvert_exporter": "python",
   "pygments_lexer": "ipython3",
   "version": "3.11.5"
  }
 },
 "nbformat": 4,
 "nbformat_minor": 5
}
